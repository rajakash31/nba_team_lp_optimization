{
 "cells": [
  {
   "cell_type": "code",
   "execution_count": 1,
   "metadata": {},
   "outputs": [],
   "source": [
    "# Importing the libraries\n",
    "\n",
    "import os\n",
    "from ortools.linear_solver import pywraplp\n",
    "import pandas as pd\n",
    "import numpy as np"
   ]
  },
  {
   "cell_type": "code",
   "execution_count": 2,
   "metadata": {},
   "outputs": [
    {
     "ename": "NameError",
     "evalue": "name 'cwd' is not defined",
     "output_type": "error",
     "traceback": [
      "\u001b[1;31m---------------------------------------------------------------------------\u001b[0m",
      "\u001b[1;31mNameError\u001b[0m                                 Traceback (most recent call last)",
      "\u001b[1;32m<ipython-input-2-c018ed4b0215>\u001b[0m in \u001b[0;36m<module>\u001b[1;34m\u001b[0m\n\u001b[0;32m      1\u001b[0m \u001b[1;31m# Importing the dataframe : advancced stats, standard stats, and salaries\u001b[0m\u001b[1;33m\u001b[0m\u001b[1;33m\u001b[0m\u001b[1;33m\u001b[0m\u001b[0m\n\u001b[0;32m      2\u001b[0m \u001b[1;33m\u001b[0m\u001b[0m\n\u001b[1;32m----> 3\u001b[1;33m \u001b[0mdf_advanced\u001b[0m \u001b[1;33m=\u001b[0m \u001b[0mpd\u001b[0m\u001b[1;33m.\u001b[0m\u001b[0mread_csv\u001b[0m\u001b[1;33m(\u001b[0m\u001b[1;34mf\"{cwd}/nba_2021_advanced_stats.csv\"\u001b[0m\u001b[1;33m,\u001b[0m \u001b[0mencoding\u001b[0m \u001b[1;33m=\u001b[0m \u001b[1;34m\"ISO-8859-1\"\u001b[0m\u001b[1;33m)\u001b[0m\u001b[1;33m\u001b[0m\u001b[1;33m\u001b[0m\u001b[0m\n\u001b[0m\u001b[0;32m      4\u001b[0m \u001b[0mdf_standard\u001b[0m \u001b[1;33m=\u001b[0m \u001b[0mpd\u001b[0m\u001b[1;33m.\u001b[0m\u001b[0mread_csv\u001b[0m\u001b[1;33m(\u001b[0m\u001b[1;34mf\"{cwd}/nba_2021_standard_stats.csv\"\u001b[0m\u001b[1;33m,\u001b[0m \u001b[0mencoding\u001b[0m \u001b[1;33m=\u001b[0m \u001b[1;34m\"ISO-8859-1\"\u001b[0m\u001b[1;33m)\u001b[0m\u001b[1;33m\u001b[0m\u001b[1;33m\u001b[0m\u001b[0m\n\u001b[0;32m      5\u001b[0m \u001b[0mdf_salaries\u001b[0m \u001b[1;33m=\u001b[0m \u001b[0mpd\u001b[0m\u001b[1;33m.\u001b[0m\u001b[0mread_csv\u001b[0m\u001b[1;33m(\u001b[0m\u001b[1;34mf\"{cwd}/nba_2022_salaries.csv\"\u001b[0m\u001b[1;33m,\u001b[0m \u001b[0mencoding\u001b[0m \u001b[1;33m=\u001b[0m \u001b[1;34m\"ISO-8859-1\"\u001b[0m\u001b[1;33m)\u001b[0m\u001b[1;33m\u001b[0m\u001b[1;33m\u001b[0m\u001b[0m\n",
      "\u001b[1;31mNameError\u001b[0m: name 'cwd' is not defined"
     ]
    }
   ],
   "source": [
    "# Importing the dataframe : advancced stats, standard stats, and salaries\n",
    "cwd = os.getcwd()\n",
    "\n",
    "df_advanced = pd.read_csv(f\"{cwd}/nba_2021_advanced_stats.csv\", encoding = \"ISO-8859-1\")\n",
    "df_standard = pd.read_csv(f\"{cwd}/nba_2021_standard_stats.csv\", encoding = \"ISO-8859-1\")\n",
    "df_salaries = pd.read_csv(f\"{cwd}/nba_2022_salaries.csv\", encoding = \"ISO-8859-1\")"
   ]
  },
  {
   "cell_type": "code",
   "execution_count": null,
   "metadata": {},
   "outputs": [],
   "source": [
    "# We filter relevant columns\n",
    "\n",
    "df_advanced = df_advanced[[\"Player\", \"Pos\", \"PER\"]]\n",
    "df_standard = df_standard[[\"Player\", \"G\", \"MP\", \"3P%\", \"PTS\"]]\n",
    "df_salaries = df_salaries[[\"Player\",\"2021-22\"]].rename(columns={\"2021-22\": \"Salary\"})\n",
    "\n",
    "df_salaries = df_salaries.drop_duplicates(subset=[\"Player\", \"Salary\"], keep=False)"
   ]
  },
  {
   "cell_type": "code",
   "execution_count": null,
   "metadata": {},
   "outputs": [],
   "source": [
    "# We merge all dataframes\n",
    "\n",
    "df = pd.merge(df_advanced, df_standard, how=\"inner\", on=[\"Player\"])\n",
    "df = pd.merge(df, df_salaries, how=\"inner\", on=[\"Player\"])\n",
    "df = df.drop_duplicates().reset_index(drop=True)"
   ]
  },
  {
   "cell_type": "code",
   "execution_count": null,
   "metadata": {},
   "outputs": [],
   "source": [
    "# We filter rows, keeping players that played at least ten matches, and played at least 5 minutes per game\n",
    "df = df[(df[\"G\"] >= 10) & (df[\"MP\"] >= 5)]"
   ]
  },
  {
   "cell_type": "code",
   "execution_count": null,
   "metadata": {},
   "outputs": [],
   "source": [
    "# We create an index column and filter Pos column\n",
    "df[\"idx\"] = df.index\n",
    "df[\"Pos\"] = df[\"Pos\"].str.slice(stop=2)\n",
    "df[\"Pos\"] = df[\"Pos\"].str.replace('-','')"
   ]
  },
  {
   "cell_type": "code",
   "execution_count": null,
   "metadata": {},
   "outputs": [],
   "source": [
    "# We create a dictionary that has information about the players, with a key indicating the index in df\n",
    "# Also, we create a dictionary that has information on each player's position\n",
    "players_dict = {}\n",
    "positions_dict = {}"
   ]
  },
  {
   "cell_type": "code",
   "execution_count": null,
   "metadata": {},
   "outputs": [],
   "source": [
    "# We fill information on players and positions\n",
    "for index, row in df.iterrows():\n",
    "    players_dict[row[\"idx\"]] = {\n",
    "        \"name\": row[\"Player\"],\n",
    "        \"Pos\": row[\"Pos\"],\n",
    "        \"PER\": row[\"PER\"],\n",
    "        \"3P%\": row[\"3P%\"],\n",
    "        \"PTS\": row[\"PTS\"],\n",
    "        \"Salary\": row[\"Salary\"]\n",
    "    }\n",
    "    pos = row[\"Pos\"]\n",
    "    if pos not in positions_dict.keys():\n",
    "        positions_dict[pos] = [row[\"idx\"]]\n",
    "    else:\n",
    "        positions_dict[pos].append(row[\"idx\"])"
   ]
  },
  {
   "cell_type": "code",
   "execution_count": null,
   "metadata": {},
   "outputs": [],
   "source": []
  }
 ],
 "metadata": {
  "kernelspec": {
   "display_name": "Python 3",
   "language": "python",
   "name": "python3"
  },
  "language_info": {
   "codemirror_mode": {
    "name": "ipython",
    "version": 3
   },
   "file_extension": ".py",
   "mimetype": "text/x-python",
   "name": "python",
   "nbconvert_exporter": "python",
   "pygments_lexer": "ipython3",
   "version": "3.8.5"
  }
 },
 "nbformat": 4,
 "nbformat_minor": 4
}
